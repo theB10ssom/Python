{
 "cells": [
  {
   "cell_type": "code",
   "execution_count": 1,
   "id": "6ae0a8d7-1848-4361-8711-01695ee68fae",
   "metadata": {},
   "outputs": [],
   "source": [
    "import pandas as pd # 테이블 형식으로 데이터를 처리할 수 있게 하는 라이브러리"
   ]
  },
  {
   "cell_type": "code",
   "execution_count": 2,
   "id": "67744c2e-8b69-4a0d-b27e-f15606e5ef3e",
   "metadata": {},
   "outputs": [],
   "source": [
    "!pip install selenium --quiet # 필수 라이브러리 설치 (한번 설치되면 실행시키지 않아도 됨)"
   ]
  },
  {
   "cell_type": "code",
   "execution_count": 3,
   "id": "0891a0f2-4a4c-4af3-9a08-82cf0fdadc8a",
   "metadata": {},
   "outputs": [],
   "source": [
    "from selenium import webdriver as wd\n",
    "from selenium.webdriver.chrome.options import Options\n",
    "import time"
   ]
  },
  {
   "cell_type": "code",
   "execution_count": 27,
   "id": "10e5f54f-70b3-432a-9d45-58c0c3ac4b16",
   "metadata": {},
   "outputs": [],
   "source": [
    "class Covid:\n",
    "    def __init__(self, url, loop):\n",
    "        self.url = url\n",
    "        self.loop = loop,\n",
    "        self.df = pd.DataFrame()\n",
    "        self.driver = None\n",
    "        self.table  = {}\n",
    "        \n",
    "    def setup(self, path):\n",
    "        # 웹드라이버 생성\n",
    "        self.driver = wd.Chrome(executable_path=path) # 웹드라이버 경로를 executable_path에 설정\n",
    "        self.driver.get(self.url)\n",
    "    \n",
    "    def scroll_covid_table(self, old=False):\n",
    "        # old 옵션은 확진자 현황 1 ~ x만번까지 집계되어있는 다른 버튼을 누르는 옵션\n",
    "        if old:\n",
    "            old_corona_xpath = '//*[@id=\"move-cont1\"]/div[2]/div[4]/div[1]/ul/li[2]/button'\n",
    "            self.driver.find_element_by_xpath(old_corona_xpath).click()\n",
    "        else:\n",
    "            current_corona_xpath = '//*[@id=\"container\"]/div[2]/div/div[4]/ul/li[1]/button'\n",
    "            self.driver.find_element_by_xpath(current_corona_xpath).click()\n",
    "    \n",
    "    def select_location(self):       \n",
    "        location_button_xpath = '//*[@id=\"status_searchArea\"]/option[3]' #강동구\n",
    "        self.driver.find_element_by_xpath(location_button_xpath).click()\n",
    "    \n",
    "    def start_search(self):\n",
    "        search_button_xpath = '//*[@id=\"status_searchButton\"]'\n",
    "        self.driver.find_element_by_xpath(search_button_xpath).click()\n",
    "        \n",
    "        time.sleep(3) # 로딩 기다리기\n",
    "        \n",
    "    def get_table(self):\n",
    "        \n",
    "        target_table_xpath = '//*[@id=\"DataTables_Table_0\"]'\n",
    "        table = self.driver.find_element_by_xpath(target_table_xpath)\n",
    "\n",
    "        sets = [table.text][0].split('\\n')\n",
    "\n",
    "        self.table['table_name'] = sets[0].split(' ')[1:]\n",
    "        self.table['idx'] = [sets[i] for i in range(1, len(sets),2)]\n",
    "        self.table['data'] = [sets[i] for i in range(2, len(sets), 2)]\n",
    "            \n",
    "    def make_table(self):\n",
    "        # 테이블로 만둘어주는 함수\n",
    "        df_tmp = pd.DataFrame()\n",
    "        \n",
    "        for x in range(1, self.loop[0] + 1):\n",
    "            \n",
    "            Covid.get_table(self)\n",
    "            \n",
    "            data_tmp = [i.split(' ') for i in self.table['data']]\n",
    "            for i in data_tmp:\n",
    "                i.insert(4, ''.join(i[4:-1]))\n",
    "                del i[5:-1]\n",
    "\n",
    "            self.table.update({'data' : data_tmp})\n",
    "\n",
    "            columns = self.table['table_name']\n",
    "            index = self.table['idx']\n",
    "            self.df = pd.DataFrame(data_tmp, columns=columns, index=index).reset_index().rename(columns={'index':'연번'})\n",
    "        \n",
    "            df_tmp = pd.concat([df_tmp, self.df], axis=0)\n",
    "            \n",
    "        self.driver.quit() \n",
    "        \n",
    "        return df_tmp.reset_index(drop=True)"
   ]
  },
  {
   "cell_type": "markdown",
   "id": "df8734cc-1a84-4989-b9af-28c1aa113e04",
   "metadata": {},
   "source": [
    "**chromedriver_path는 설치한 웹드라이버 경로로 변경**  \n",
    "**loop로 얼마만큼의 페이지를 가져올것인지 설정 (최대 27페이지, 한 페이지당 100개 row)**"
   ]
  },
  {
   "cell_type": "code",
   "execution_count": 30,
   "id": "c42101bd-5395-448f-9907-9a0e54cebd5e",
   "metadata": {},
   "outputs": [],
   "source": [
    "url = \"https://www.seoul.go.kr/coronaV/coronaStatus.do\"\n",
    "chromedriver_path = \"C:/chromedriver.exe\" #크롬 웹드라이버 경로\n",
    "loop = 5 #반복횟수(얼마만큼의 페이지 데이터를 가져올건지 선택)"
   ]
  },
  {
   "cell_type": "markdown",
   "id": "d3ba02a7-4eba-414b-be6c-1dd9b865436c",
   "metadata": {},
   "source": [
    "**실행 코드**"
   ]
  },
  {
   "cell_type": "code",
   "execution_count": 30,
   "id": "65bce946-944c-4fe8-b698-1d0a4d605a25",
   "metadata": {},
   "outputs": [],
   "source": [
    "gangdong = Covid(url = url, loop = loop)\n",
    "gangdong.setup(path = chromedriver_path)\n",
    "gangdong.scroll_covid_table()\n",
    "gangdong.select_location()\n",
    "gangdong.start_search()\n",
    "table = gangdong.make_table()"
   ]
  },
  {
   "cell_type": "markdown",
   "id": "6a41eea2-2b0d-42dd-a96b-373c8b85d2cf",
   "metadata": {},
   "source": [
    "**테이블 확인**"
   ]
  },
  {
   "cell_type": "code",
   "execution_count": null,
   "id": "c131538f-1b4c-4606-a8d9-388fde7f0aef",
   "metadata": {},
   "outputs": [],
   "source": [
    "table #테이블 확인\n",
    "#table.head(5) # 위에서 5개 데이터 확인"
   ]
  },
  {
   "cell_type": "markdown",
   "id": "156b9db5-b8af-4532-81e1-4f8a6d604fb1",
   "metadata": {},
   "source": [
    "**저장**  \n",
    "**path는 저장하고싶은 경로로 변경**"
   ]
  },
  {
   "cell_type": "code",
   "execution_count": 32,
   "id": "3f10de36-47f9-48f3-a1c5-2a36741ac87d",
   "metadata": {},
   "outputs": [],
   "source": [
    "path = './covid.xlsx' #(./ 는 소스코드가 있는 현재 위치를 말함)\n",
    "table.to_excel(path) #저장"
   ]
  }
 ],
 "metadata": {
  "kernelspec": {
   "display_name": "Python 3",
   "language": "python",
   "name": "python3"
  },
  "language_info": {
   "codemirror_mode": {
    "name": "ipython",
    "version": 3
   },
   "file_extension": ".py",
   "mimetype": "text/x-python",
   "name": "python",
   "nbconvert_exporter": "python",
   "pygments_lexer": "ipython3",
   "version": "3.8.8"
  }
 },
 "nbformat": 4,
 "nbformat_minor": 5
}
